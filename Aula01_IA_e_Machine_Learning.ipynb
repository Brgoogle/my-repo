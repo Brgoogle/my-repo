{
  "nbformat": 4,
  "nbformat_minor": 0,
  "metadata": {
    "colab": {
      "name": "Aula01 - IA e Machine Learning.ipynb",
      "provenance": [],
      "authorship_tag": "ABX9TyPkc/4KH3qGsa2tzIi7+Uwl",
      "include_colab_link": true
    },
    "kernelspec": {
      "name": "python3",
      "display_name": "Python 3"
    },
    "language_info": {
      "name": "python"
    }
  },
  "cells": [
    {
      "cell_type": "markdown",
      "metadata": {
        "id": "view-in-github",
        "colab_type": "text"
      },
      "source": [
        "<a href=\"https://colab.research.google.com/github/jardielnascimento-br/my-repo/blob/main/Aula01_IA_e_Machine_Learning.ipynb\" target=\"_parent\"><img src=\"https://colab.research.google.com/assets/colab-badge.svg\" alt=\"Open In Colab\"/></a>"
      ]
    },
    {
      "cell_type": "code",
      "execution_count": 1,
      "metadata": {
        "colab": {
          "base_uri": "https://localhost:8080/"
        },
        "id": "7FoZf5ouBnP2",
        "outputId": "7fbe5e10-6c5d-4602-ae2f-5341fe03148c"
      },
      "outputs": [
        {
          "output_type": "stream",
          "name": "stdout",
          "text": [
            "O resultado é 50\n"
          ]
        }
      ],
      "source": [
        "# Autor: Jardiel Lourenço do Nascimento\n",
        "# Primeiros Passos da Ciência de dados\n",
        "\n",
        "a = 10\n",
        "b = 40\n",
        "c = (a+b)\n",
        "print(\"O resultado é\", c)"
      ]
    },
    {
      "cell_type": "markdown",
      "source": [
        "Explicando o cenario\n"
      ],
      "metadata": {
        "id": "1mEyhxa6CRNT"
      }
    },
    {
      "cell_type": "code",
      "source": [
        ""
      ],
      "metadata": {
        "id": "fCeqUHu-CcPz"
      },
      "execution_count": null,
      "outputs": []
    }
  ]
}